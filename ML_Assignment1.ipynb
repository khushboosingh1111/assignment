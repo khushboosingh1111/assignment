{
 "cells": [
  {
   "cell_type": "code",
   "execution_count": 7,
   "id": "e250fd01",
   "metadata": {},
   "outputs": [
    {
     "name": "stdout",
     "output_type": "stream",
     "text": [
      "Array written to array_data.csv\n",
      "Loaded array: [['1', '2', '3', '4', '5', '6'], ['5', '6', '7', '8', '2', '9'], ['9', '10', '11', '12', '17', '14']]\n"
     ]
    }
   ],
   "source": [
    "import csv\n",
    "\n",
    "def check_divisibility(a, b):\n",
    "    try:\n",
    "        print(a/b)\n",
    "    except:\n",
    "        print(\"Error: Cannot divide by zero\")\n",
    "\n",
    "# check_divisibility(10, 3)\n",
    "\n",
    "\n",
    "def writeArray(array_2d, filename):\n",
    "    with open(filename, 'w', newline='') as file:\n",
    "        writer = csv.writer(file)\n",
    "        writer.writerows(array_2d)\n",
    "    print(f\"Array written to {filename}\")\n",
    "\n",
    "def readArray(filename):\n",
    "    with open(filename, 'r') as file:\n",
    "        reader = csv.reader(file)\n",
    "        array_2d = [row for row in reader]\n",
    "    return array_2d\n",
    "\n",
    "\n",
    "arr = [\n",
    "    [1, 2, 3, 4, 5, 6],\n",
    "    [5, 6, 7, 8, 2, 9],\n",
    "    [9, 10, 11, 12, 17, 14]\n",
    "]\n",
    "\n",
    "writeArray(arr, \"array_data.csv\")\n",
    "loaded_arr = readArray(\"array_data.csv\")\n",
    "print(\"Loaded array:\", loaded_arr)\n",
    "\n",
    "\n"
   ]
  }
 ],
 "metadata": {
  "kernelspec": {
   "display_name": "Python 3",
   "language": "python",
   "name": "python3"
  },
  "language_info": {
   "codemirror_mode": {
    "name": "ipython",
    "version": 3
   },
   "file_extension": ".py",
   "mimetype": "text/x-python",
   "name": "python",
   "nbconvert_exporter": "python",
   "pygments_lexer": "ipython3",
   "version": "3.13.2"
  }
 },
 "nbformat": 4,
 "nbformat_minor": 5
}
